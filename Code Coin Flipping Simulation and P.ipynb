{
 "cells": [
  {
   "cell_type": "markdown",
   "metadata": {},
   "source": [
    "# Part 1: Simulation "
   ]
  },
  {
   "cell_type": "markdown",
   "metadata": {},
   "source": [
    "A. Design the Coin Flipping Simulation"
   ]
  },
  {
   "cell_type": "markdown",
   "metadata": {},
   "source": [
    "# Design the Coin Flipping Simulation"
   ]
  },
  {
   "cell_type": "code",
   "execution_count": 2,
   "metadata": {},
   "outputs": [
    {
     "name": "stdout",
     "output_type": "stream",
     "text": [
      "Results after 1 coin flips:\n",
      "Heads: 1\n",
      "Tails: 0\n"
     ]
    }
   ],
   "source": [
    "import random\n",
    "\n",
    "def flip_coin():\n",
    "    # Generate a random number between 0 and 1\n",
    "    random_number = random.random()\n",
    "    \n",
    "    # Use 0.5 as the threshold to simulate a fair coin flip\n",
    "    if random_number < 0.5:\n",
    "        return \"Heads\"\n",
    "    else:\n",
    "        return \"Tails\"\n",
    "\n",
    "def main():\n",
    "    num_flips = int(input(\"Enter the number of times to flip the coin: \"))\n",
    "    \n",
    "    if num_flips <= 0:\n",
    "        print(\"Please enter a positive number of flips.\")\n",
    "        return\n",
    "    \n",
    "    # Simulate coin flips\n",
    "    heads_count = 0\n",
    "    tails_count = 0\n",
    "    \n",
    "    for _ in range(num_flips):\n",
    "        result = flip_coin()\n",
    "        if result == \"Heads\":\n",
    "            heads_count += 1\n",
    "        else:\n",
    "            tails_count += 1\n",
    "    \n",
    "    # Print the results\n",
    "    print(f\"Results after {num_flips} coin flips:\")\n",
    "    print(f\"Heads: {heads_count}\")\n",
    "    print(f\"Tails: {tails_count}\")\n",
    "\n",
    "if __name__ == \"__main__\":\n",
    "    main()\n"
   ]
  },
  {
   "cell_type": "markdown",
   "metadata": {},
   "source": [
    "# Specify the number of coin flips (N) as a parameter that you can adjust"
   ]
  },
  {
   "cell_type": "code",
   "execution_count": 3,
   "metadata": {},
   "outputs": [
    {
     "name": "stdout",
     "output_type": "stream",
     "text": [
      "Number of flips: 1000\n",
      "Heads: 504 (Probability: 0.50)\n",
      "Tails: 496 (Probability: 0.50)\n"
     ]
    }
   ],
   "source": [
    "import random\n",
    "\n",
    "def flip_coin(n):\n",
    "    heads = 0\n",
    "    tails = 0\n",
    "\n",
    "    for _ in range(n):\n",
    "        # Generate a random number (0 or 1) to represent heads or tails\n",
    "        result = random.randint(0, 1)\n",
    "        \n",
    "        if result == 0:\n",
    "            heads += 1\n",
    "        else:\n",
    "            tails += 1\n",
    "    \n",
    "    return heads, tails\n",
    "\n",
    "if __name__ == \"__main__\":\n",
    "    # Specify the number of coin flips (N)\n",
    "    N = 1000  # Adjust this number as needed\n",
    "    \n",
    "    # Perform the coin flips simulation\n",
    "    heads_count, tails_count = flip_coin(N)\n",
    "    \n",
    "    # Calculate the probabilities\n",
    "    heads_probability = heads_count / N\n",
    "    tails_probability = tails_count / N\n",
    "    \n",
    "    # Display the results\n",
    "    print(f\"Number of flips: {N}\")\n",
    "    print(f\"Heads: {heads_count} (Probability: {heads_probability:.2f})\")\n",
    "    print(f\"Tails: {tails_count} (Probability: {tails_probability:.2f})\")"
   ]
  },
  {
   "cell_type": "markdown",
   "metadata": {},
   "source": [
    "You can adjust the value of N to specify the number of coin flips you want to simulate. When you run the program, it will perform the specified number of coin flips, count the number of heads and tails, and calculate the probabilities of getting heads and tails based on the simulation results."
   ]
  },
  {
   "cell_type": "markdown",
   "metadata": {},
   "source": [
    "B.Perform the Simulation"
   ]
  },
  {
   "cell_type": "markdown",
   "metadata": {},
   "source": [
    "# Conduct the coin flipping simulation, recording the outcomes of each flip (heads or tails)."
   ]
  },
  {
   "cell_type": "code",
   "execution_count": 4,
   "metadata": {},
   "outputs": [
    {
     "name": "stdout",
     "output_type": "stream",
     "text": [
      "Flip 1: Tails\n",
      "Flip 2: Heads\n",
      "Flip 3: Tails\n",
      "Flip 4: Heads\n",
      "Flip 5: Heads\n",
      "Flip 6: Heads\n",
      "Flip 7: Tails\n",
      "Flip 8: Tails\n",
      "Flip 9: Tails\n",
      "Flip 10: Tails\n"
     ]
    }
   ],
   "source": [
    "import random\n",
    "\n",
    "def flip_coin(n):\n",
    "    outcomes = []  # List to store the outcomes (heads or tails)\n",
    "\n",
    "    for _ in range(n):\n",
    "        # Generate a random number (0 or 1) to represent heads or tails\n",
    "        result = random.randint(0, 1)\n",
    "        \n",
    "        if result == 0:\n",
    "            outcome = \"Heads\"\n",
    "        else:\n",
    "            outcome = \"Tails\"\n",
    "        \n",
    "        outcomes.append(outcome)\n",
    "    \n",
    "    return outcomes\n",
    "\n",
    "if __name__ == \"__main__\":\n",
    "    # Specify the number of coin flips (N)\n",
    "    N = 10  # Adjust this number as needed\n",
    "    \n",
    "    # Perform the coin flips simulation\n",
    "    outcomes = flip_coin(N)\n",
    "    \n",
    "    # Display the outcomes of each flip\n",
    "    for i, outcome in enumerate(outcomes, start=1):\n",
    "        print(f\"Flip {i}: {outcome}\")\n"
   ]
  },
  {
   "cell_type": "markdown",
   "metadata": {},
   "source": [
    "In this modified code, the outcomes list is used to store the result of each coin flip. The loop appends each outcome (either \"Heads\" or \"Tails\") to the list. After the simulation is complete, it prints the outcomes of each flip. You can adjust the value of N to specify the number of coin flips you want to simulate."
   ]
  },
  {
   "cell_type": "markdown",
   "metadata": {},
   "source": [
    "# Keep track of the number of heads and tails observed during the simulation. \n"
   ]
  },
  {
   "cell_type": "code",
   "execution_count": 5,
   "metadata": {},
   "outputs": [
    {
     "name": "stdout",
     "output_type": "stream",
     "text": [
      "Number of flips: 1000\n",
      "Heads: 515\n",
      "Tails: 485\n"
     ]
    }
   ],
   "source": [
    "import random\n",
    "\n",
    "def flip_coin(n):\n",
    "    heads_count = 0\n",
    "    tails_count = 0\n",
    "\n",
    "    for _ in range(n):\n",
    "        # Generate a random number (0 or 1) to represent heads or tails\n",
    "        result = random.randint(0, 1)\n",
    "        \n",
    "        if result == 0:\n",
    "            heads_count += 1\n",
    "        else:\n",
    "            tails_count += 1\n",
    "    \n",
    "    return heads_count, tails_count\n",
    "\n",
    "if __name__ == \"__main__\":\n",
    "    # Specify the number of coin flips (N)\n",
    "    N = 1000  # Adjust this number as needed\n",
    "    \n",
    "    # Perform the coin flips simulation\n",
    "    heads_count, tails_count = flip_coin(N)\n",
    "    \n",
    "    # Display the results\n",
    "    print(f\"Number of flips: {N}\")\n",
    "    print(f\"Heads: {heads_count}\")\n",
    "    print(f\"Tails: {tails_count}\")\n"
   ]
  },
  {
   "cell_type": "markdown",
   "metadata": {},
   "source": [
    " we keep track of the number of heads and tails observed during the simulation using the variables heads_count and tails_count. After the simulation is complete, it prints the counts of heads and tails. You can adjust the value of N to specify the number of coin flips you want to simulate."
   ]
  },
  {
   "cell_type": "markdown",
   "metadata": {},
   "source": [
    "# Part 2: Probability Analysis "
   ]
  },
  {
   "cell_type": "markdown",
   "metadata": {},
   "source": [
    "A.Calculate Experimental Probabilities: \n",
    "\n",
    "● After running the simulation, calculate the experimental probabilities of the following events: \n",
    "❖ Probability of getting heads (P(Heads)). \n",
    "❖ Probability of getting tails (P(Tails)). \n",
    "❖ Probability of getting a specific sequence of coin flips (e.g., HTH). "
   ]
  },
  {
   "cell_type": "code",
   "execution_count": 1,
   "metadata": {},
   "outputs": [
    {
     "name": "stdout",
     "output_type": "stream",
     "text": [
      "Number of flips: 1000\n",
      "Heads: 480 (Probability: 0.48)\n",
      "Tails: 520 (Probability: 0.52)\n",
      "Probability of [0, 1, 0]: 1.00\n"
     ]
    }
   ],
   "source": [
    "import random\n",
    "\n",
    "def flip_coin(n):\n",
    "    heads_count = 0\n",
    "    tails_count = 0\n",
    "    specific_sequence_count = 0\n",
    "\n",
    "    for _ in range(n):\n",
    "        # Generate a random number (0 or 1) to represent heads or tails\n",
    "        result = random.randint(0, 1)\n",
    "        \n",
    "        if result == 0:\n",
    "            heads_count += 1\n",
    "        else:\n",
    "            tails_count += 1\n",
    "        \n",
    "        # Check for a specific sequence (e.g., HTH)\n",
    "        if len(sequence) >= 3:\n",
    "            if sequence[-3:] == [0, 1, 0]:\n",
    "                specific_sequence_count += 1\n",
    "    \n",
    "    return heads_count, tails_count, specific_sequence_count\n",
    "\n",
    "if __name__ == \"__main__\":\n",
    "    # Specify the number of coin flips (N)\n",
    "    N = 1000  # Adjust this number as needed\n",
    "    \n",
    "    # Specify the specific sequence to calculate its probability (e.g., HTH)\n",
    "    sequence = [0, 1, 0]  # HTH\n",
    "    \n",
    "    # Perform the coin flips simulation\n",
    "    heads_count, tails_count, specific_sequence_count = flip_coin(N)\n",
    "    \n",
    "    # Calculate experimental probabilities\n",
    "    probability_heads = heads_count / N\n",
    "    probability_tails = tails_count / N\n",
    "    probability_specific_sequence = specific_sequence_count / (N - 2)  # Subtract 2 for valid sequence checks\n",
    "    \n",
    "    # Display the results\n",
    "    print(f\"Number of flips: {N}\")\n",
    "    print(f\"Heads: {heads_count} (Probability: {probability_heads:.2f})\")\n",
    "    print(f\"Tails: {tails_count} (Probability: {probability_tails:.2f})\")\n",
    "    print(f\"Probability of {sequence}: {probability_specific_sequence:.2f}\")\n"
   ]
  },
  {
   "cell_type": "markdown",
   "metadata": {},
   "source": [
    "B. Theoretical Probabilities: \n",
    "❖ Calculate the theoretical probabilities for the same events based on the principles of a fair coin (P(Heads) = P(Tails) = 0.5). \n"
   ]
  },
  {
   "cell_type": "markdown",
   "metadata": {},
   "source": [
    "Theoretical probabilities for the events based on the principles of a fair coin (where P(Heads) = P(Tails) = 0.5):\n",
    "\n",
    "1. Probability of getting heads (P(Heads)): 0.5\n",
    "\n",
    "2. Probability of getting tails (P(Tails)): 0.5\n",
    "\n",
    "3. Probability of getting a specific sequence of coin flips (e.g., HTH): For a fair coin, where each flip is independent, the probability of a specific sequence of three coin flips is calculated as follows:\n",
    "\n",
    "P(HTH) = P(Head) * P(Tail) * P(Head) = 0.5 * 0.5 * 0.5 = 0.125\n",
    "\n",
    "So, the theoretical probabilities are as follows:\n",
    "\n",
    "P(Heads) = 0.5\n",
    "P(Tails) = 0.5\n",
    "P(HTH) = 0.125"
   ]
  },
  {
   "cell_type": "markdown",
   "metadata": {},
   "source": [
    "\n",
    "C. Comparison and Interpretation: \n",
    "❖ Compare the experimental probabilities with the theoretical probabilities for each event. "
   ]
  },
  {
   "cell_type": "code",
   "execution_count": 2,
   "metadata": {},
   "outputs": [
    {
     "name": "stdout",
     "output_type": "stream",
     "text": [
      "Theoretical Probabilities:\n",
      "P(Heads) = 0.50\n",
      "P(Tails) = 0.50\n",
      "Theoretical Probability of [0, 1, 0]: 0.12\n",
      "\n",
      "Experimental Probabilities:\n",
      "P(Heads) = 0.48\n",
      "P(Tails) = 0.52\n",
      "Experimental Probability of [0, 1, 0]: 1.00\n",
      "\n",
      "Comparison and Interpretation:\n",
      "The experimental probability of getting heads does not match the theoretical probability.\n",
      "The experimental probability of getting tails does not match the theoretical probability.\n",
      "The experimental probability of [0, 1, 0] does not match the theoretical probability.\n"
     ]
    }
   ],
   "source": [
    "# Theoretical probabilities assuming a fair coin\n",
    "theoretical_probability_heads = 0.5\n",
    "theoretical_probability_tails = 0.5\n",
    "theoretical_probability_specific_sequence = (0.5 ** 3)  # Probability of specific sequence (e.g., HTH) is (0.5^3) for each flip being independent\n",
    "\n",
    "# Display the theoretical probabilities\n",
    "print(\"Theoretical Probabilities:\")\n",
    "print(f\"P(Heads) = {theoretical_probability_heads:.2f}\")\n",
    "print(f\"P(Tails) = {theoretical_probability_tails:.2f}\")\n",
    "print(f\"Theoretical Probability of {sequence}: {theoretical_probability_specific_sequence:.2f}\")\n",
    "\n",
    "# Experimental probabilities from the simulation\n",
    "experimental_probability_heads = probability_heads\n",
    "experimental_probability_tails = probability_tails\n",
    "experimental_probability_specific_sequence = probability_specific_sequence\n",
    "\n",
    "# Display the experimental probabilities\n",
    "print(\"\\nExperimental Probabilities:\")\n",
    "print(f\"P(Heads) = {experimental_probability_heads:.2f}\")\n",
    "print(f\"P(Tails) = {experimental_probability_tails:.2f}\")\n",
    "print(f\"Experimental Probability of {sequence}: {experimental_probability_specific_sequence:.2f}\")\n",
    "\n",
    "# Compare and interpret the results\n",
    "print(\"\\nComparison and Interpretation:\")\n",
    "if experimental_probability_heads == theoretical_probability_heads:\n",
    "    print(\"The experimental probability of getting heads matches the theoretical probability.\")\n",
    "else:\n",
    "    print(\"The experimental probability of getting heads does not match the theoretical probability.\")\n",
    "\n",
    "if experimental_probability_tails == theoretical_probability_tails:\n",
    "    print(\"The experimental probability of getting tails matches the theoretical probability.\")\n",
    "else:\n",
    "    print(\"The experimental probability of getting tails does not match the theoretical probability.\")\n",
    "\n",
    "if experimental_probability_specific_sequence == theoretical_probability_specific_sequence:\n",
    "    print(f\"The experimental probability of {sequence} matches the theoretical probability.\")\n",
    "else:\n",
    "    print(f\"The experimental probability of {sequence} does not match the theoretical probability.\")\n"
   ]
  },
  {
   "cell_type": "markdown",
   "metadata": {},
   "source": [
    "❖ Interpret the results and explain any discrepancies or similarities. "
   ]
  },
  {
   "cell_type": "markdown",
   "metadata": {},
   "source": [
    "Interpreting the results of the comparison between experimental and theoretical probabilities is important to understand the findings"
   ]
  },
  {
   "cell_type": "markdown",
   "metadata": {},
   "source": [
    "\n",
    "Interpreting the results of the comparison between experimental and theoretical probabilities is important to understand the findings. Here's are as follow how you can interpret the results and explain any discrepancies or similarities:\n",
    "\n",
    "1. Probability of Getting Heads (P(Heads)):\n",
    "\n",
    "a. Theoretical Probability: 0.5\n",
    "b. Experimental Probability: Obtained from the simulation\n",
    "\n",
    "\n",
    "Interpretation:\n",
    "\n",
    "\n",
    "a. If the experimental probability of getting heads matches the theoretical probability (0.5), it suggests that the simulation's outcomes align with the expected outcomes for a fair coin.\n",
    "b. Any discrepancies could be due to random chance, as the simulation involves a finite number of flips.\n",
    "\n",
    "\n",
    "2. Probability of Getting Tails (P(Tails)):\n",
    "\n",
    "\n",
    "a. Theoretical Probability: 0.5\n",
    "b. Experimental Probability: Obtained from the simulation\n",
    "\n",
    "\n",
    "Interpretation:\n",
    "\n",
    "\n",
    "a. Similar to the probability of getting heads, if the experimental probability of getting tails matches the theoretical probability (0.5), it indicates consistency with the expected probabilities.\n",
    "b. Differences between experimental and theoretical probabilities may be due to randomness in the simulation.\n",
    "\n",
    "\n",
    "3. Probability of a Specific Sequence (e.g., HTH):\n",
    "\n",
    "\n",
    "a. Theoretical Probability: 0.125\n",
    "b. Experimental Probability: Obtained from the simulation\n",
    "\n",
    "\n",
    "Interpretation:\n",
    "\n",
    "\n",
    "a. Theoretical probability for a specific sequence is calculated based on the assumption that each flip is independent, which is true for a fair coin.\n",
    "b. If the experimental probability of the specific sequence matches the theoretical probability (0.125), it suggests that the simulation accurately reflects the theoretical model.\n",
    "c. Discrepancies may occur due to the limited number of flips in the simulation and random variation.\n",
    "\n",
    "\n",
    "\n",
    "it's important to note that in a finite simulation, there will always be some degree of variation from the theoretical probabilities due to randomness. The larger the number of coin flips (N) in the simulation, the closer the experimental probabilities should come to the theoretical probabilities. If the discrepancies are significant, increasing the number of simulation trials can reduce the impact of random variation.\n",
    "\n",
    "Additionally, discrepancies could also result from potential biases or imperfections in the simulation code, though the code provided assumes a fair coin and uniform randomness."
   ]
  }
 ],
 "metadata": {
  "kernelspec": {
   "display_name": "base",
   "language": "python",
   "name": "python3"
  },
  "language_info": {
   "codemirror_mode": {
    "name": "ipython",
    "version": 3
   },
   "file_extension": ".py",
   "mimetype": "text/x-python",
   "name": "python",
   "nbconvert_exporter": "python",
   "pygments_lexer": "ipython3",
   "version": "3.10.10"
  },
  "orig_nbformat": 4
 },
 "nbformat": 4,
 "nbformat_minor": 2
}
